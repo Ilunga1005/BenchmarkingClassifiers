{
 "cells": [
  {
   "cell_type": "code",
   "execution_count": 1,
   "metadata": {},
   "outputs": [],
   "source": [
    "import yaml\n",
    "from pathlib import Path\n",
    "import requests"
   ]
  },
  {
   "cell_type": "code",
   "execution_count": 24,
   "metadata": {},
   "outputs": [
    {
     "data": {
      "text/plain": [
       "[287, 562, 28901, 1613, 1351, 1280, 1639, 1423, 4932, 5207]"
      ]
     },
     "execution_count": 24,
     "metadata": {},
     "output_type": "execute_result"
    }
   ],
   "source": [
    "with open(\"/home/zhouan/App/BenchmarkingClassifiers/snakemake/config/ground_truth_zymo_d6300.yml\", 'r') as f:\n",
    "    theoretical_abundance = {'species': yaml.load(f, Loader=yaml.FullLoader)}\n",
    "    \n",
    "tmp=list(theoretical_abundance['species'].keys())\n",
    "\n",
    "s = requests.Session()\n",
    "tmp"
   ]
  },
  {
   "cell_type": "code",
   "execution_count": null,
   "metadata": {},
   "outputs": [],
   "source": [
    "def fetch_fungus_or_nah(taxids):\n",
    "    base_url = f'https://api.ncbi.nlm.nih.gov/datasets/v2alpha/taxonomy/taxon/'\n",
    "    taxids_str = ','.join(map(str, taxids))\n",
    "    url = f'{base_url}{taxids_str}'\n",
    "    params = {}\n",
    "    try:\n",
    "        response = s.get(url, params=params)\n",
    "        response.raise_for_status() # \n",
    "    except Exception as err:\n",
    "        print(f'Other error occurred: {err}')\n",
    "    else:\n",
    "        r = response.json()\n",
    "    return r\n",
    "fetch_fungus_or_nah(tmp)"
   ]
  },
  {
   "cell_type": "code",
   "execution_count": 21,
   "metadata": {},
   "outputs": [],
   "source": [
    "def fetch_reference_dataset_report(taxon, reference_only='true'):\n",
    "    base_url = f'https://api.ncbi.nlm.nih.gov/datasets/v2alpha/genome/taxon/{taxon}/dataset_report?'\n",
    "    params = {f'filters.reference_only': {reference_only},\n",
    "              'filters.exclude_paired_reports': 'false',\n",
    "              'filters.exclude_atypical': 'true'}\n",
    "    try:\n",
    "        response = s.get(base_url, params=params)\n",
    "        # print(response.url)\n",
    "        response.raise_for_status()\n",
    "    except Exception as err:\n",
    "        print(f'Other error occurred: {err}')\n",
    "    else:\n",
    "        return response.json()\n",
    "\n"
   ]
  },
  {
   "cell_type": "code",
   "execution_count": 22,
   "metadata": {},
   "outputs": [
    {
     "data": {
      "text/plain": [
       "{'reports': [{'accession': 'GCF_000091045.1',\n",
       "   'current_accession': 'GCF_000091045.1',\n",
       "   'paired_accession': 'GCA_000091045.1',\n",
       "   'source_database': 'SOURCE_DATABASE_REFSEQ',\n",
       "   'organism': {'tax_id': 214684,\n",
       "    'organism_name': 'Cryptococcus neoformans var. neoformans JEC21',\n",
       "    'infraspecific_names': {'strain': 'JEC21'}},\n",
       "   'assembly_info': {'assembly_level': 'Chromosome',\n",
       "    'assembly_status': 'current',\n",
       "    'paired_assembly': {'accession': 'GCA_000091045.1',\n",
       "     'status': 'current',\n",
       "     'annotation_name': 'Annotation submitted by TIGR'},\n",
       "    'assembly_name': 'ASM9104v1',\n",
       "    'assembly_type': 'haploid',\n",
       "    'bioproject_lineage': [{'bioprojects': [{'accession': 'PRJNA13856',\n",
       "        'title': 'WGS sequencing of strain JEC21 (serotype D)'}]}],\n",
       "    'bioproject_accession': 'PRJNA13856',\n",
       "    'release_date': '2005-01-07',\n",
       "    'submitter': 'TIGR',\n",
       "    'refseq_category': 'reference genome',\n",
       "    'biosample': {'accession': 'SAMN03081418',\n",
       "     'last_updated': '2024-01-04T12:26:21.663',\n",
       "     'publication_date': '2014-09-26T00:00:00.000',\n",
       "     'submission_date': '2014-09-26T10:50:04.870',\n",
       "     'sample_ids': [{'db': 'SRA', 'value': 'SRS20051938'},\n",
       "      {'db': 'GenBank', 'value': 'gb|AE017341.1'}],\n",
       "     'description': {'title': 'Sample from Cryptococcus neoformans var. neoformans JEC21',\n",
       "      'organism': {'tax_id': 214684,\n",
       "       'organism_name': 'Cryptococcus neoformans var. neoformans JEC21'}},\n",
       "     'owner': {'name': 'The Institute for Genomic Research'},\n",
       "     'models': ['Generic'],\n",
       "     'bioprojects': [{'accession': 'PRJNA13856'}],\n",
       "     'package': 'Generic.1.0',\n",
       "     'attributes': [{'name': 'serotype', 'value': 'D'},\n",
       "      {'name': 'orgmod_note', 'value': 'MAT-alpha'},\n",
       "      {'name': 'strain', 'value': 'JEC21'}],\n",
       "     'status': {'status': 'live', 'when': '2014-10-01T12:30:12'},\n",
       "     'strain': 'JEC21'},\n",
       "    'blast_url': 'https://blast.ncbi.nlm.nih.gov/Blast.cgi?PAGE_TYPE=BlastSearch&PROG_DEF=blastn&BLAST_SPEC=GDH_GCF_000091045.1',\n",
       "    'comments': 'This record represents the complete annotated sequence of the C. neoformans JEC21 genome. A small number of gaps exist which are represented by NNNNs within the final sequence. The genome has been annotated by TIGR and the annotation data is available for viewing and download from the TIGR database (http://www.tigr.org/tdb/e2k1/cna1/).'},\n",
       "   'assembly_stats': {'total_number_of_chromosomes': 14,\n",
       "    'total_sequence_length': '19051922',\n",
       "    'total_ungapped_length': '19050125',\n",
       "    'number_of_contigs': 37,\n",
       "    'contig_n50': 1076541,\n",
       "    'contig_l50': 7,\n",
       "    'number_of_scaffolds': 14,\n",
       "    'scaffold_n50': 1438950,\n",
       "    'scaffold_l50': 6,\n",
       "    'number_of_component_sequences': 14,\n",
       "    'gc_count': '9247646',\n",
       "    'gc_percent': 48.5},\n",
       "   'annotation_info': {'name': 'Annotation submitted by TIGR',\n",
       "    'provider': 'TIGR',\n",
       "    'release_date': '2018-04-11',\n",
       "    'stats': {'gene_counts': {'total': 7004,\n",
       "      'protein_coding': 6632,\n",
       "      'non_coding': 134,\n",
       "      'pseudogene': 238}},\n",
       "    'pipeline': 'Eukaryotic Annotation Propagation Pipeline',\n",
       "    'status': 'Full annotation'}}],\n",
       " 'total_count': 1}"
      ]
     },
     "execution_count": 22,
     "metadata": {},
     "output_type": "execute_result"
    }
   ],
   "source": [
    "for taxid, seq_abund in theoretical_abundance['species'].items():\n",
    "    r = fetch_reference_dataset_report(taxid)\n",
    "\n",
    "r"
   ]
  },
  {
   "cell_type": "code",
   "execution_count": 28,
   "metadata": {},
   "outputs": [
    {
     "data": {
      "text/plain": [
       "1"
      ]
     },
     "execution_count": 28,
     "metadata": {},
     "output_type": "execute_result"
    }
   ],
   "source": [
    "len(r['reports'])"
   ]
  },
  {
   "cell_type": "code",
   "execution_count": 35,
   "metadata": {},
   "outputs": [
    {
     "data": {
      "text/plain": [
       "{'reports': [{'assembly_accession': 'GCF_000091045.1',\n",
       "   'chr_name': '1',\n",
       "   'assigned_molecule_location_type': 'Chromosome',\n",
       "   'refseq_accession': 'NC_006670.1',\n",
       "   'assembly_unit': 'Primary Assembly',\n",
       "   'length': 2300533,\n",
       "   'genbank_accession': 'AE017341.1',\n",
       "   'gc_count': '1117874',\n",
       "   'gc_percent': 48.5,\n",
       "   'role': 'assembled-molecule',\n",
       "   'sequence_name': '1'},\n",
       "  {'assembly_accession': 'GCF_000091045.1',\n",
       "   'chr_name': '2',\n",
       "   'assigned_molecule_location_type': 'Chromosome',\n",
       "   'refseq_accession': 'NC_006684.1',\n",
       "   'assembly_unit': 'Primary Assembly',\n",
       "   'length': 1632307,\n",
       "   'genbank_accession': 'AE017342.1',\n",
       "   'gc_count': '790296',\n",
       "   'gc_percent': 48.5,\n",
       "   'role': 'assembled-molecule',\n",
       "   'sequence_name': '2'},\n",
       "  {'assembly_accession': 'GCF_000091045.1',\n",
       "   'chr_name': '3',\n",
       "   'assigned_molecule_location_type': 'Chromosome',\n",
       "   'refseq_accession': 'NC_006685.1',\n",
       "   'assembly_unit': 'Primary Assembly',\n",
       "   'length': 2105742,\n",
       "   'genbank_accession': 'AE017343.1',\n",
       "   'gc_count': '1018848',\n",
       "   'gc_percent': 48.5,\n",
       "   'role': 'assembled-molecule',\n",
       "   'sequence_name': '3'},\n",
       "  {'assembly_accession': 'GCF_000091045.1',\n",
       "   'chr_name': '4',\n",
       "   'assigned_molecule_location_type': 'Chromosome',\n",
       "   'refseq_accession': 'NC_006686.1',\n",
       "   'assembly_unit': 'Primary Assembly',\n",
       "   'length': 1783081,\n",
       "   'genbank_accession': 'AE017344.1',\n",
       "   'gc_count': '864560',\n",
       "   'gc_percent': 48.5,\n",
       "   'role': 'assembled-molecule',\n",
       "   'sequence_name': '4'},\n",
       "  {'assembly_accession': 'GCF_000091045.1',\n",
       "   'chr_name': '5',\n",
       "   'assigned_molecule_location_type': 'Chromosome',\n",
       "   'refseq_accession': 'NC_006687.1',\n",
       "   'assembly_unit': 'Primary Assembly',\n",
       "   'length': 1507550,\n",
       "   'genbank_accession': 'AE017345.1',\n",
       "   'gc_count': '734895',\n",
       "   'gc_percent': 48.5,\n",
       "   'role': 'assembled-molecule',\n",
       "   'sequence_name': '5'},\n",
       "  {'assembly_accession': 'GCF_000091045.1',\n",
       "   'chr_name': '6',\n",
       "   'assigned_molecule_location_type': 'Chromosome',\n",
       "   'refseq_accession': 'NC_006691.1',\n",
       "   'assembly_unit': 'Primary Assembly',\n",
       "   'length': 1438950,\n",
       "   'genbank_accession': 'AE017346.1',\n",
       "   'gc_count': '696641',\n",
       "   'gc_percent': 48.5,\n",
       "   'role': 'assembled-molecule',\n",
       "   'sequence_name': '6'},\n",
       "  {'assembly_accession': 'GCF_000091045.1',\n",
       "   'chr_name': '7',\n",
       "   'assigned_molecule_location_type': 'Chromosome',\n",
       "   'refseq_accession': 'NC_006692.1',\n",
       "   'assembly_unit': 'Primary Assembly',\n",
       "   'length': 1347793,\n",
       "   'genbank_accession': 'AE017347.1',\n",
       "   'gc_count': '653984',\n",
       "   'gc_percent': 48.5,\n",
       "   'role': 'assembled-molecule',\n",
       "   'sequence_name': '7'},\n",
       "  {'assembly_accession': 'GCF_000091045.1',\n",
       "   'chr_name': '8',\n",
       "   'assigned_molecule_location_type': 'Chromosome',\n",
       "   'refseq_accession': 'NC_006693.1',\n",
       "   'assembly_unit': 'Primary Assembly',\n",
       "   'length': 1194300,\n",
       "   'genbank_accession': 'AE017348.1',\n",
       "   'gc_count': '579870',\n",
       "   'gc_percent': 48.5,\n",
       "   'role': 'assembled-molecule',\n",
       "   'sequence_name': '8'},\n",
       "  {'assembly_accession': 'GCF_000091045.1',\n",
       "   'chr_name': '9',\n",
       "   'assigned_molecule_location_type': 'Chromosome',\n",
       "   'refseq_accession': 'NC_006694.1',\n",
       "   'assembly_unit': 'Primary Assembly',\n",
       "   'length': 1178688,\n",
       "   'genbank_accession': 'AE017349.1',\n",
       "   'gc_count': '571992',\n",
       "   'gc_percent': 48.5,\n",
       "   'role': 'assembled-molecule',\n",
       "   'sequence_name': '9'},\n",
       "  {'assembly_accession': 'GCF_000091045.1',\n",
       "   'chr_name': '10',\n",
       "   'assigned_molecule_location_type': 'Chromosome',\n",
       "   'refseq_accession': 'NC_006679.1',\n",
       "   'assembly_unit': 'Primary Assembly',\n",
       "   'length': 1085720,\n",
       "   'genbank_accession': 'AE017350.1',\n",
       "   'gc_count': '530126',\n",
       "   'gc_percent': 49,\n",
       "   'role': 'assembled-molecule',\n",
       "   'sequence_name': '10'},\n",
       "  {'assembly_accession': 'GCF_000091045.1',\n",
       "   'chr_name': '11',\n",
       "   'assigned_molecule_location_type': 'Chromosome',\n",
       "   'refseq_accession': 'NC_006680.1',\n",
       "   'assembly_unit': 'Primary Assembly',\n",
       "   'length': 1019846,\n",
       "   'genbank_accession': 'AE017351.1',\n",
       "   'gc_count': '495593',\n",
       "   'gc_percent': 48.5,\n",
       "   'role': 'assembled-molecule',\n",
       "   'sequence_name': '11'},\n",
       "  {'assembly_accession': 'GCF_000091045.1',\n",
       "   'chr_name': '12',\n",
       "   'assigned_molecule_location_type': 'Chromosome',\n",
       "   'refseq_accession': 'NC_006681.1',\n",
       "   'assembly_unit': 'Primary Assembly',\n",
       "   'length': 906719,\n",
       "   'genbank_accession': 'AE017352.1',\n",
       "   'gc_count': '438979',\n",
       "   'gc_percent': 48.5,\n",
       "   'role': 'assembled-molecule',\n",
       "   'sequence_name': '12'},\n",
       "  {'assembly_accession': 'GCF_000091045.1',\n",
       "   'chr_name': '13',\n",
       "   'assigned_molecule_location_type': 'Chromosome',\n",
       "   'refseq_accession': 'NC_006682.1',\n",
       "   'assembly_unit': 'Primary Assembly',\n",
       "   'length': 787999,\n",
       "   'genbank_accession': 'AE017353.1',\n",
       "   'gc_count': '382922',\n",
       "   'gc_percent': 48.5,\n",
       "   'role': 'assembled-molecule',\n",
       "   'sequence_name': '13'},\n",
       "  {'assembly_accession': 'GCF_000091045.1',\n",
       "   'chr_name': '14',\n",
       "   'assigned_molecule_location_type': 'Chromosome',\n",
       "   'refseq_accession': 'NC_006683.1',\n",
       "   'assembly_unit': 'Primary Assembly',\n",
       "   'length': 762694,\n",
       "   'genbank_accession': 'AE017356.1',\n",
       "   'gc_count': '371066',\n",
       "   'gc_percent': 48.5,\n",
       "   'role': 'assembled-molecule',\n",
       "   'sequence_name': '14'}],\n",
       " 'total_count': 14}"
      ]
     },
     "execution_count": 35,
     "metadata": {},
     "output_type": "execute_result"
    }
   ],
   "source": [
    "def fetch_reference_sequence_report(accession):\n",
    "    base_url = f'https://api.ncbi.nlm.nih.gov/datasets/v2alpha/genome/accession/{accession}/sequence_reports?'\n",
    "    params = {}\n",
    "    try:\n",
    "        response = s.get(base_url, params=params)\n",
    "        response.raise_for_status()\n",
    "    except Exception as err:\n",
    "        print(f'Other error occurred: {err}')\n",
    "    else:\n",
    "        return response.json()\n",
    "r = fetch_reference_sequence_report('GCF_000091045.1')\n",
    "r\n"
   ]
  },
  {
   "cell_type": "code",
   "execution_count": 42,
   "metadata": {},
   "outputs": [
    {
     "data": {
      "text/plain": [
       "{'NC_006670.1': 2300533,\n",
       " 'NC_006684.1': 1632307,\n",
       " 'NC_006685.1': 2105742,\n",
       " 'NC_006686.1': 1783081,\n",
       " 'NC_006687.1': 1507550,\n",
       " 'NC_006691.1': 1438950,\n",
       " 'NC_006692.1': 1347793,\n",
       " 'NC_006693.1': 1194300,\n",
       " 'NC_006694.1': 1178688,\n",
       " 'NC_006679.1': 1085720,\n",
       " 'NC_006680.1': 1019846,\n",
       " 'NC_006681.1': 906719,\n",
       " 'NC_006682.1': 787999,\n",
       " 'NC_006683.1': 762694}"
      ]
     },
     "execution_count": 42,
     "metadata": {},
     "output_type": "execute_result"
    }
   ],
   "source": [
    "sequences = {}\n",
    "lengths = 0\n",
    "for sequence in r['reports']:\n",
    "    if sequence['assigned_molecule_location_type'] == 'Plasmid':\n",
    "        pass\n",
    "    elif sequence['assigned_molecule_location_type'] == 'Chromosome':\n",
    "        sequences[sequence['refseq_accession']] = sequence['length']\n",
    "        lengths += sequence['length']\n",
    "sequences\n"
   ]
  },
  {
   "cell_type": "code",
   "execution_count": 41,
   "metadata": {},
   "outputs": [
    {
     "data": {
      "text/plain": [
       "19051922"
      ]
     },
     "execution_count": 41,
     "metadata": {},
     "output_type": "execute_result"
    }
   ],
   "source": [
    "lengths"
   ]
  },
  {
   "cell_type": "code",
   "execution_count": 7,
   "metadata": {},
   "outputs": [
    {
     "data": {
      "text/plain": [
       "{'tax': {'species': {'Pseudomonas aeruginosa': 0.067776,\n",
       "   'Escherichia coli': 0.09147,\n",
       "   'Salmonella enterica': 0.087407,\n",
       "   'Limosilactobacillus fermentum': 0.205253,\n",
       "   'Enterococcus faecalis': 0.147915,\n",
       "   'Staphylococcus aureus': 0.150485,\n",
       "   'Listeria monocytogenes': 0.144191,\n",
       "   'Bacillus subtilis': 0.100715,\n",
       "   'Saccharomyces cerevisiae': 0.002931,\n",
       "   'Cryptococcus neoformans': 0.001857},\n",
       "  'genus': {'Pseudomonas': 0.067776,\n",
       "   'Escherichia': 0.09147,\n",
       "   'Salmonella': 0.087407,\n",
       "   'Limosilactobacillus': 0.205253,\n",
       "   'Enterococcus': 0.147915,\n",
       "   'Staphylococcus': 0.150485,\n",
       "   'Listeria': 0.144191,\n",
       "   'Bacillus': 0.100715,\n",
       "   'Saccharomyces': 0.002931,\n",
       "   'Cryptococcus': 0.001857}},\n",
       " 'sequence': {'species': {'Pseudomonas aeruginosa': 0.12,\n",
       "   'Escherichia coli': 0.12,\n",
       "   'Salmonella enterica': 0.12,\n",
       "   'Limosilactobacillus fermentum': 0.12,\n",
       "   'Enterococcus faecalis': 0.12,\n",
       "   'Staphylococcus aureus': 0.12,\n",
       "   'Listeria monocytogenes': 0.12,\n",
       "   'Bacillus subtilis': 0.12,\n",
       "   'Saccharomyces cerevisiae': 0.02,\n",
       "   'Cryptococcus neoformans': 0.02},\n",
       "  'genus': {'Pseudomonas': 0.12,\n",
       "   'Escherichia': 0.12,\n",
       "   'Salmonella': 0.12,\n",
       "   'Limosilactobacillus': 0.12,\n",
       "   'Enterococcus': 0.12,\n",
       "   'Staphylococcus': 0.12,\n",
       "   'Listeria': 0.12,\n",
       "   'Bacillus': 0.12,\n",
       "   'Saccharomyces': 0.02,\n",
       "   'Cryptococcus': 0.02}}}"
      ]
     },
     "execution_count": 7,
     "metadata": {},
     "output_type": "execute_result"
    }
   ],
   "source": [
    "import json\n",
    "import logging\n",
    "import math\n",
    "from matplotlib.gridspec import GridSpec\n",
    "import matplotlib.pyplot as plt\n",
    "import matplotlib as mpl\n",
    "import pandas as pd\n",
    "from rich.status import Status\n",
    "import yaml\n",
    "from pathlib import Path\n",
    "theoretical_abundances = {}\n",
    "data=\"/home/zhouan/Docker_dir/Classification/00.extract_method/Vazyme_D6300/BenchmarkingClassifiers\"\n",
    "for ground_truth_file in [\"ground_truth_tax_updated.yml\" ,\"ground_truth_updated.yml\"]:\n",
    "    ground_truth_file=Path(f\"{data}/{ground_truth_file}\")\n",
    "    with open(ground_truth_file, 'r') as f:\n",
    "        theoretical_abundance = {'species': yaml.load(f, Loader=yaml.FullLoader)}\n",
    "    theoretical_abundance['genus'] = {}\n",
    "\n",
    "    for k, v in theoretical_abundance['species'].items():\n",
    "        genus_name = k.split()[0]\n",
    "        if genus_name in theoretical_abundance['genus']:\n",
    "            theoretical_abundance['genus'][genus_name] += v\n",
    "        else:\n",
    "            theoretical_abundance['genus'][genus_name] = v\n",
    "\n",
    "    if ground_truth_file.stem.split('_')[-2] == 'tax':\n",
    "        theoretical_abundances['tax'] = theoretical_abundance\n",
    "    else:\n",
    "        theoretical_abundances['sequence'] = theoretical_abundance\n",
    "theoretical_abundances"
   ]
  },
  {
   "cell_type": "code",
   "execution_count": 2,
   "metadata": {},
   "outputs": [
    {
     "name": "stdout",
     "output_type": "stream",
     "text": [
      "           Kraken2  MetaPhlAn\n",
      "TP          10.000      8.000\n",
      "FP           2.000      1.000\n",
      "FN           3.000      4.000\n",
      "Precision    0.833      0.889\n",
      "Recall       0.769      0.667\n",
      "F1           0.800      0.762\n"
     ]
    }
   ],
   "source": [
    "collected_metrics = {\n",
    "    'Kraken2': {\n",
    "        'TP': 10,\n",
    "        'FP': 2,\n",
    "        'FN': 3,\n",
    "        'Precision': 0.833,\n",
    "        'Recall': 0.769,\n",
    "        'F1': 0.800\n",
    "    },\n",
    "    'MetaPhlAn': {\n",
    "        'TP': 8,\n",
    "        'FP': 1,\n",
    "        'FN': 4,\n",
    "        'Precision': 0.889,\n",
    "        'Recall': 0.667,\n",
    "        'F1': 0.762\n",
    "    }\n",
    "}\n",
    "import pandas as pd\n",
    "\n",
    "top_table = pd.DataFrame.from_dict(collected_metrics, orient='index').T\n",
    "print(top_table)\n"
   ]
  },
  {
   "cell_type": "code",
   "execution_count": 3,
   "metadata": {},
   "outputs": [
    {
     "data": {
      "text/html": [
       "<div>\n",
       "<style scoped>\n",
       "    .dataframe tbody tr th:only-of-type {\n",
       "        vertical-align: middle;\n",
       "    }\n",
       "\n",
       "    .dataframe tbody tr th {\n",
       "        vertical-align: top;\n",
       "    }\n",
       "\n",
       "    .dataframe thead th {\n",
       "        text-align: right;\n",
       "    }\n",
       "</style>\n",
       "<table border=\"1\" class=\"dataframe\">\n",
       "  <thead>\n",
       "    <tr style=\"text-align: right;\">\n",
       "      <th></th>\n",
       "      <th>TP</th>\n",
       "      <th>FP</th>\n",
       "      <th>FN</th>\n",
       "      <th>Precision</th>\n",
       "      <th>Recall</th>\n",
       "      <th>F1</th>\n",
       "    </tr>\n",
       "  </thead>\n",
       "  <tbody>\n",
       "    <tr>\n",
       "      <th>Kraken2</th>\n",
       "      <td>10</td>\n",
       "      <td>2</td>\n",
       "      <td>3</td>\n",
       "      <td>0.833</td>\n",
       "      <td>0.769</td>\n",
       "      <td>0.800</td>\n",
       "    </tr>\n",
       "    <tr>\n",
       "      <th>MetaPhlAn</th>\n",
       "      <td>8</td>\n",
       "      <td>1</td>\n",
       "      <td>4</td>\n",
       "      <td>0.889</td>\n",
       "      <td>0.667</td>\n",
       "      <td>0.762</td>\n",
       "    </tr>\n",
       "  </tbody>\n",
       "</table>\n",
       "</div>"
      ],
      "text/plain": [
       "           TP  FP  FN  Precision  Recall     F1\n",
       "Kraken2    10   2   3      0.833   0.769  0.800\n",
       "MetaPhlAn   8   1   4      0.889   0.667  0.762"
      ]
     },
     "execution_count": 3,
     "metadata": {},
     "output_type": "execute_result"
    }
   ],
   "source": [
    "pd.DataFrame.from_dict(collected_metrics, orient='index')"
   ]
  },
  {
   "cell_type": "code",
   "execution_count": 7,
   "metadata": {},
   "outputs": [
    {
     "name": "stdout",
     "output_type": "stream",
     "text": [
      "['Classified', 'Classified', NaN, 'Classified']\n",
      "Categories (7, object): ['Classified', 'no_hit', 'ambigious', 'unclassified', 'missing_genus', 'not_distributed', 'rounding_error']\n"
     ]
    }
   ],
   "source": [
    "groups = ['Classified', 'Classified', 'Unclassified', 'Classified']\n",
    "list_uc = ['no_hit',\n",
    "           'ambigious',\n",
    "           'unclassified',\n",
    "           'missing_genus',\n",
    "           'not_distributed',\n",
    "           'rounding_error'\n",
    "           ]\n",
    "import pandas as pd\n",
    "\n",
    "groups_cat = pd.Categorical(groups, categories=['Classified'] + list_uc)\n",
    "print(groups_cat)"
   ]
  },
  {
   "cell_type": "code",
   "execution_count": 8,
   "metadata": {},
   "outputs": [
    {
     "data": {
      "text/plain": [
       "Index(['Classified', 'no_hit', 'ambigious', 'unclassified', 'missing_genus',\n",
       "       'not_distributed', 'rounding_error'],\n",
       "      dtype='object')"
      ]
     },
     "execution_count": 8,
     "metadata": {},
     "output_type": "execute_result"
    }
   ],
   "source": [
    "groups_cat.categories"
   ]
  },
  {
   "cell_type": "code",
   "execution_count": 12,
   "metadata": {},
   "outputs": [
    {
     "data": {
      "text/plain": [
       "<generator object Path.glob at 0x7fe004c8e500>"
      ]
     },
     "execution_count": 12,
     "metadata": {},
     "output_type": "execute_result"
    }
   ],
   "source": [
    "from pathlib import Path\n",
    "data=\"/home/zhouan/Docker_dir/Classification/00.extract_method/Vazyme_D6300/BenchmarkingClassifiers/output\"\n",
    "data=Path(data)\n",
    "data.glob(\"/home/zhouan/Docker_dir/Classification/00.extract_method/Vazyme_D6300/BenchmarkingClassifiers/output/species\" + '/' + '*.tsv')"
   ]
  },
  {
   "cell_type": "code",
   "execution_count": 20,
   "metadata": {},
   "outputs": [],
   "source": [
    "import itertools\n",
    "import math\n",
    "import pandas as pd\n",
    "import seaborn as sns\n",
    "import matplotlib.pyplot as plt\n",
    "import numpy as np\n",
    "import matplotlib as mpl\n",
    "from dataclasses import dataclass\n",
    "from sklearn import metrics\n",
    "from typing import List\n",
    "@dataclass # 通过 @dataclass，可以直接在类中定义属性，而不需要显式编写 __init__ 方法\n",
    "class ClassificationResults:\n",
    "    classifier: str\n",
    "    results: pd.Series\n",
    "    names_unclassified: List[str]\n",
    "\n",
    "    def bundled_classified(self, normalized=False): #  将结果分为两类：已分类（Classified）和未分类（list_uc 中的单元）\n",
    "        \"\"\"\n",
    "        'Classified' --> ground truth + classified but not in ground truth\n",
    "        The rest are in list_uc and are as-is\n",
    "        \"\"\"\n",
    "        groups = np.where(np.isin(self.results.index, list_uc), self.results.index, 'Classified') # 根据 self.results.index 中的分类单元是否在 list_uc 中，将分类单元分为两类：1. 在 list_uc 中的分类单元，保持原样；2. 不在 list_uc 中的分类单元，标记为 'Classified'；返回NumPy 数组\n",
    "        groups_cat = pd.Categorical(groups,\n",
    "                                    categories=['Classified'] + list_uc) # 将分类单元分为 'Classified'和 list_uc 中的类\n",
    "        bundled_classified = self.results.groupby(groups_cat, observed=False).aggregate('sum') # 对'Classified'和 list_uc 的reads数量进行求和\n",
    "        if normalized:\n",
    "            return self._normalize_series(bundled_classified)\n",
    "        return bundled_classified"
   ]
  },
  {
   "cell_type": "code",
   "execution_count": 21,
   "metadata": {},
   "outputs": [],
   "source": [
    "list_uc = ['no_hit', 'ambigious', 'unclassified', 'missing_genus']\n",
    "classifiers_input = [\n",
    "    ClassificationResults(\n",
    "        classifier='kraken2',\n",
    "        results=pd.Series({\n",
    "            'E_coli': 100,\n",
    "            'S_aureus': 200,\n",
    "            'B_subtilis': 50,\n",
    "            'Unclassified': 30,\n",
    "            'no_hit': 10,\n",
    "            'ambigious': 5,\n",
    "            'unclassified': 2,\n",
    "            'missing_genus': 1\n",
    "        }),\n",
    "        names_unclassified=['no_hit', 'ambigious', 'unclassified', 'missing_genus']\n",
    "    ),\n",
    "    ClassificationResults(\n",
    "        classifier='bracken',\n",
    "        results=pd.Series({\n",
    "            'E_coli': 150,\n",
    "            'S_aureus': 180,\n",
    "            'B_subtilis': 70,\n",
    "            'Unclassified': 20,\n",
    "            'no_hit': 10,\n",
    "            'ambigious': 5,\n",
    "            'unclassified': 2,\n",
    "            'missing_genus': 1\n",
    "        }),\n",
    "        names_unclassified=['no_hit', 'ambigious', 'unclassified', 'missing_genus']\n",
    "    )\n",
    "]"
   ]
  },
  {
   "cell_type": "code",
   "execution_count": 27,
   "metadata": {},
   "outputs": [],
   "source": [
    "un_classified = {}\n",
    "list_abundance_classifiers = ['MetaPhlAn3', 'mOTUs2']\n",
    "for classifier_result in classifiers_input:\n",
    "    if classifier_result.classifier not in list_abundance_classifiers: # 如果分类器不直接输出丰度结果\n",
    "        un_classified[classifier_result.classifier] = classifier_result.bundled_classified(False) # 返回一个字典，包含Classified'和 list_uc 分类的reads数量之和\n",
    "un_classified_values = pd.DataFrame.from_dict(un_classified)\n",
    "output_plots_organism=\"/home/zhouan/Docker_dir/Classification/00.extract_method/Vazyme_D6300/BenchmarkingClassifiers/output/species\"\n",
    "output_plots_organism = Path(output_plots_organism)\n",
    "un_classified_values.to_csv(output_plots_organism / 'number_table.tsv', sep='\\t')"
   ]
  },
  {
   "cell_type": "code",
   "execution_count": 28,
   "metadata": {},
   "outputs": [
    {
     "data": {
      "text/plain": [
       "<enumerate at 0x7fdfff678580>"
      ]
     },
     "execution_count": 28,
     "metadata": {},
     "output_type": "execute_result"
    }
   ],
   "source": [
    "enumerate(classifiers_input)"
   ]
  }
 ],
 "metadata": {
  "kernelspec": {
   "display_name": "BenchmarkingClassifiers",
   "language": "python",
   "name": "python3"
  },
  "language_info": {
   "codemirror_mode": {
    "name": "ipython",
    "version": 3
   },
   "file_extension": ".py",
   "mimetype": "text/x-python",
   "name": "python",
   "nbconvert_exporter": "python",
   "pygments_lexer": "ipython3",
   "version": "3.10.16"
  }
 },
 "nbformat": 4,
 "nbformat_minor": 2
}
